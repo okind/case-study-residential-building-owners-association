{
 "cells": [
  {
   "cell_type": "markdown",
   "metadata": {},
   "source": [
    "\n",
    "#This is a case study of multi-storey residential building home owners interest in organization of a private home owners association, \n",
    "#that would allow to improve technical building maintanance and save on building resources. \n",
    "# In this project, a **residential_building_home_owners.csv** file will be investigated using Python. \n",
    "# The goal with this project will be to analyze  attributes within **residential_building_home_owners.csv** to explore\n",
    "# more about the multi-story building home owners and gain insight into potential use cases for the dataset.\n"
   ]
  },
  {
   "cell_type": "code",
   "execution_count": 74,
   "metadata": {},
   "outputs": [],
   "source": [
    "#Import csv library\n",
    "import csv\n",
    "import pandas as pd\n",
    "import numpy as np\n",
    "import matplotlib.pyplot as plt\n",
    "import seaborn as sns\n",
    " \n",
    "\n",
    "\n",
    "#Input csv file name\n",
    "home_owners_file = 'residential_building_home_owners.csv'\n",
    "generated_home_owners_file = 'generated_building_home_owners.csv'\n",
    "\n",
    "csv_file_fields = ['apt_number', 'apt_type', 'apt_ownership_type', 'ownerl_name', 'votes_per_owner', 'votes_per_apt', 'votes_by_sq_feet', 'ownership_start_date']\n",
    "\n",
    "#generated_building_home_owners.csv file column names\n",
    "apt_num_column = 'apt_number'\n",
    "apt_type_column = 'apt_type'\n",
    "apart_ownership_column = 'apt_ownership_type'\n",
    "owner_name_column = 'ownerl_name'\n",
    "votes_per_owner_column = 'votes_per_owner'\n",
    "votes_per_apt_column = 'votes_per_apt'\n",
    "votes_by_apt_size_column = 'votes_by_sq_feet'\n",
    "ownership_start_column = 'ownership_start_date'\n",
    "#generated owner names column to keep home owner personal info privacy\n",
    "gen_owner_name_column = 'gen_owner_name'\n",
    "\n",
    "\n"
   ]
  },
  {
   "cell_type": "markdown",
   "metadata": {},
   "source": [
    "**generated_building_home_owners.csv** contains the following columns:\n",
    "* Apartment number\n",
    "* Apartment type\n",
    "* Apartment ownership type\n",
    "* Votes per owner\n",
    "* Votes per apartment\n",
    "* Votes by square feet\n",
    "* Ownership start date\n",
    "* Generated owner name\n",
    "* Owner name column was removed and replaced with generated owner name for privacy purpose\n",
    "\n",
    "To store this information, empty lists will be created to hold each individual column of data from **generated_building_home_owners.csv**."
   ]
  },
  {
   "cell_type": "code",
   "execution_count": 75,
   "metadata": {},
   "outputs": [],
   "source": [
    "#Created empty lists for the various attributes in generated_building_home_owners.csv\n",
    "apart_numbers = []\n",
    "apart_type = []\n",
    "apart_ownership_type = []\n",
    "votes_per_owner = []\n",
    "votes_per_apt = []\n",
    "votes_by_sq_feet = []\n",
    "ownership_start_date = []\n",
    "gen_home_owner_names = []"
   ]
  },
  {
   "cell_type": "code",
   "execution_count": 76,
   "metadata": {},
   "outputs": [],
   "source": [
    "#Loaded data from csv file for analysis\n",
    "def load_data_to_list(list, csv_file, column_name):\n",
    "    \n",
    "    with open(csv_file, newline='') as csv_data:\n",
    "        csv_dictionary = csv.DictReader(csv_data)\n",
    "        for row in csv_dictionary:\n",
    "            if len(row) > 0:\n",
    "                list.append(row[column_name])\n",
    "        \n",
    "        return list\n",
    "\n",
    "\n",
    "#Generated names for each home owner by template - ownerName + unique number    \n",
    "def genDictionaryOfOwnerNames(owner_names):\n",
    "    genName = ''\n",
    "    count = 1\n",
    "    genToRealNameMapping = {}\n",
    "    #Use the same generated name for the same owner names\n",
    "    for name in owner_names:\n",
    "        if name != 'unknown':\n",
    "            genName = 'ownerName' + str(count)\n",
    "        else:  genName = 'unknown'\n",
    "        genToRealNameMapping[name] = genName\n",
    "        count+=1\n",
    "\n",
    "    return genToRealNameMapping\n",
    "\n",
    "#Created new file, added a column with generated names and removed column with the real names\n",
    "def write_gen_name_to_file(gen_names_mapping, csv_file_input, csv_file_output,  owner_column_name, gen_owner_column_name):\n",
    "    csv_file_fields.append(gen_owner_column_name)\n",
    "    with open(csv_file_input, 'r') as csv_input:\n",
    "        csv_reader =csv.DictReader(csv_input)\n",
    "        with open(csv_file_output, 'w') as csv_output:\n",
    "            csv_writer = csv.DictWriter(csv_output, csv_file_fields)\n",
    "            csv_writer.writeheader()\n",
    "            for row in csv_reader:\n",
    "                real_owner_name = row.pop(owner_column_name)\n",
    "                generated_owner_name = gen_names_mapping[real_owner_name]\n",
    "                row[gen_owner_column_name] = generated_owner_name\n",
    "                csv_writer.writerow(row)\n",
    "                \n",
    "\n"
   ]
  },
  {
   "cell_type": "code",
   "execution_count": null,
   "metadata": {},
   "outputs": [],
   "source": []
  },
  {
   "cell_type": "code",
   "execution_count": 77,
   "metadata": {},
   "outputs": [],
   "source": [
    "#Created a new file generated_building_home_owners.csv with the same data as in residential_building_home_owners.csv, added column with generated owner name, removed column with the real names\n",
    "#It keeps privacy for personal home owners data\n",
    "owner_name = []\n",
    "gen_to_real_names_dict = {}\n",
    "loaded_owner_names = load_data_to_list(owner_name, home_owners_file, owner_name_column)\n",
    "gen_to_real_names_dict = genDictionaryOfOwnerNames(loaded_owner_names)\n",
    "write_gen_name_to_file(gen_to_real_names_dict, home_owners_file, generated_home_owners_file, owner_name_column, gen_owner_name_column)\n"
   ]
  },
  {
   "cell_type": "code",
   "execution_count": null,
   "metadata": {},
   "outputs": [],
   "source": []
  },
  {
   "cell_type": "code",
   "execution_count": 78,
   "metadata": {},
   "outputs": [
    {
     "data": {
      "text/plain": [
       "['ownerName1',\n",
       " 'ownerName2',\n",
       " 'ownerName3',\n",
       " 'ownerName4',\n",
       " 'ownerName5',\n",
       " 'ownerName6',\n",
       " 'ownerName7',\n",
       " 'ownerName8',\n",
       " 'ownerName9',\n",
       " 'ownerName70',\n",
       " 'ownerName11',\n",
       " 'ownerName12',\n",
       " 'ownerName13',\n",
       " 'ownerName14',\n",
       " 'ownerName15',\n",
       " 'ownerName16',\n",
       " 'ownerName17',\n",
       " 'ownerName18',\n",
       " 'ownerName19',\n",
       " 'ownerName20',\n",
       " 'ownerName21',\n",
       " 'ownerName28',\n",
       " 'ownerName23',\n",
       " 'ownerName24',\n",
       " 'ownerName25',\n",
       " 'ownerName26',\n",
       " 'ownerName27',\n",
       " 'ownerName28',\n",
       " 'ownerName339',\n",
       " 'ownerName30',\n",
       " 'ownerName31',\n",
       " 'ownerName32',\n",
       " 'ownerName33',\n",
       " 'ownerName34',\n",
       " 'ownerName35',\n",
       " 'ownerName36',\n",
       " 'ownerName339',\n",
       " 'ownerName38',\n",
       " 'ownerName40',\n",
       " 'ownerName40',\n",
       " 'ownerName175',\n",
       " 'ownerName42',\n",
       " 'ownerName43',\n",
       " 'ownerName44',\n",
       " 'ownerName45',\n",
       " 'ownerName46',\n",
       " 'ownerName47',\n",
       " 'ownerName48',\n",
       " 'ownerName49',\n",
       " 'ownerName50',\n",
       " 'ownerName339',\n",
       " 'ownerName52',\n",
       " 'ownerName53',\n",
       " 'ownerName54',\n",
       " 'ownerName55',\n",
       " 'ownerName339',\n",
       " 'ownerName57',\n",
       " 'ownerName58',\n",
       " 'ownerName175',\n",
       " 'ownerName60',\n",
       " 'ownerName230',\n",
       " 'ownerName62',\n",
       " 'ownerName63',\n",
       " 'ownerName64',\n",
       " 'ownerName65',\n",
       " 'unknown',\n",
       " 'ownerName67',\n",
       " 'ownerName68',\n",
       " 'ownerName69',\n",
       " 'ownerName70',\n",
       " 'ownerName71',\n",
       " 'ownerName72',\n",
       " 'ownerName73',\n",
       " 'ownerName74',\n",
       " 'ownerName75',\n",
       " 'ownerName76',\n",
       " 'ownerName77',\n",
       " 'ownerName78',\n",
       " 'ownerName79',\n",
       " 'unknown',\n",
       " 'ownerName81',\n",
       " 'ownerName82',\n",
       " 'ownerName83',\n",
       " 'ownerName84',\n",
       " 'ownerName85',\n",
       " 'unknown',\n",
       " 'ownerName87',\n",
       " 'ownerName88',\n",
       " 'ownerName90',\n",
       " 'ownerName90',\n",
       " 'ownerName91',\n",
       " 'ownerName92',\n",
       " 'ownerName93',\n",
       " 'ownerName94',\n",
       " 'ownerName95',\n",
       " 'ownerName96',\n",
       " 'unknown',\n",
       " 'ownerName98',\n",
       " 'ownerName99',\n",
       " 'ownerName100',\n",
       " 'ownerName101',\n",
       " 'ownerName102',\n",
       " 'ownerName103',\n",
       " 'ownerName191',\n",
       " 'ownerName105',\n",
       " 'ownerName106',\n",
       " 'ownerName107',\n",
       " 'ownerName108',\n",
       " 'ownerName109',\n",
       " 'ownerName110',\n",
       " 'ownerName111',\n",
       " 'ownerName112',\n",
       " 'ownerName113',\n",
       " 'ownerName114',\n",
       " 'ownerName115',\n",
       " 'ownerName116',\n",
       " 'ownerName117',\n",
       " 'unknown',\n",
       " 'ownerName248',\n",
       " 'ownerName121',\n",
       " 'ownerName121',\n",
       " 'ownerName122',\n",
       " 'ownerName123',\n",
       " 'ownerName124',\n",
       " 'ownerName125',\n",
       " 'ownerName126',\n",
       " 'ownerName127',\n",
       " 'ownerName128',\n",
       " 'ownerName129',\n",
       " 'unknown',\n",
       " 'ownerName131',\n",
       " 'ownerName132',\n",
       " 'ownerName133',\n",
       " 'ownerName134',\n",
       " 'ownerName135',\n",
       " 'ownerName136',\n",
       " 'unknown',\n",
       " 'ownerName138',\n",
       " 'ownerName139',\n",
       " 'ownerName140',\n",
       " 'ownerName141',\n",
       " 'unknown',\n",
       " 'ownerName143',\n",
       " 'ownerName273',\n",
       " 'ownerName145',\n",
       " 'ownerName146',\n",
       " 'ownerName147',\n",
       " 'ownerName148',\n",
       " 'ownerName149',\n",
       " 'ownerName150',\n",
       " 'ownerName151',\n",
       " 'ownerName152',\n",
       " 'ownerName153',\n",
       " 'ownerName154',\n",
       " 'ownerName155',\n",
       " 'ownerName156',\n",
       " 'ownerName158',\n",
       " 'ownerName158',\n",
       " 'ownerName159',\n",
       " 'ownerName163',\n",
       " 'ownerName161',\n",
       " 'ownerName162',\n",
       " 'ownerName163',\n",
       " 'ownerName164',\n",
       " 'ownerName165',\n",
       " 'ownerName166',\n",
       " 'ownerName167',\n",
       " 'ownerName168',\n",
       " 'ownerName169',\n",
       " 'unknown',\n",
       " 'ownerName171',\n",
       " 'ownerName172',\n",
       " 'ownerName173',\n",
       " 'ownerName174',\n",
       " 'ownerName175',\n",
       " 'ownerName176',\n",
       " 'ownerName177',\n",
       " 'ownerName178',\n",
       " 'ownerName179',\n",
       " 'ownerName180',\n",
       " 'ownerName181',\n",
       " 'ownerName182',\n",
       " 'ownerName183',\n",
       " 'ownerName184',\n",
       " 'ownerName185',\n",
       " 'ownerName186',\n",
       " 'ownerName187',\n",
       " 'ownerName188',\n",
       " 'ownerName189',\n",
       " 'ownerName190',\n",
       " 'ownerName191',\n",
       " 'ownerName192',\n",
       " 'ownerName193',\n",
       " 'ownerName194',\n",
       " 'ownerName195',\n",
       " 'ownerName196',\n",
       " 'ownerName248',\n",
       " 'ownerName198',\n",
       " 'ownerName199',\n",
       " 'ownerName200',\n",
       " 'ownerName201',\n",
       " 'ownerName248',\n",
       " 'ownerName203',\n",
       " 'ownerName248',\n",
       " 'ownerName205',\n",
       " 'ownerName206',\n",
       " 'ownerName207',\n",
       " 'ownerName208',\n",
       " 'ownerName209',\n",
       " 'ownerName210',\n",
       " 'ownerName248',\n",
       " 'ownerName212',\n",
       " 'ownerName213',\n",
       " 'ownerName214',\n",
       " 'ownerName215',\n",
       " 'ownerName216',\n",
       " 'ownerName217',\n",
       " 'ownerName218',\n",
       " 'ownerName219',\n",
       " 'ownerName220',\n",
       " 'ownerName221',\n",
       " 'ownerName222',\n",
       " 'ownerName223',\n",
       " 'ownerName224',\n",
       " 'ownerName225',\n",
       " 'ownerName226',\n",
       " 'ownerName227',\n",
       " 'ownerName228',\n",
       " 'ownerName229',\n",
       " 'ownerName230',\n",
       " 'ownerName231',\n",
       " 'ownerName232',\n",
       " 'ownerName233',\n",
       " 'ownerName234',\n",
       " 'ownerName235',\n",
       " 'ownerName236',\n",
       " 'ownerName237',\n",
       " 'ownerName238',\n",
       " 'ownerName239',\n",
       " 'ownerName240',\n",
       " 'ownerName241',\n",
       " 'ownerName242',\n",
       " 'unknown',\n",
       " 'ownerName244',\n",
       " 'ownerName245',\n",
       " 'ownerName246',\n",
       " 'unknown',\n",
       " 'ownerName248',\n",
       " 'ownerName249',\n",
       " 'unknown',\n",
       " 'ownerName251',\n",
       " 'ownerName259',\n",
       " 'unknown',\n",
       " 'ownerName254',\n",
       " 'ownerName255',\n",
       " 'ownerName256',\n",
       " 'ownerName257',\n",
       " 'ownerName258',\n",
       " 'ownerName259',\n",
       " 'ownerName260',\n",
       " 'ownerName261',\n",
       " 'ownerName262',\n",
       " 'ownerName263',\n",
       " 'unknown',\n",
       " 'unknown',\n",
       " 'ownerName266',\n",
       " 'ownerName267',\n",
       " 'ownerName268',\n",
       " 'ownerName269',\n",
       " 'unknown',\n",
       " 'ownerName271',\n",
       " 'ownerName272',\n",
       " 'ownerName273',\n",
       " 'ownerName274',\n",
       " 'ownerName275',\n",
       " 'ownerName276',\n",
       " 'ownerName277',\n",
       " 'ownerName278',\n",
       " 'ownerName279',\n",
       " 'ownerName280',\n",
       " 'ownerName281',\n",
       " 'ownerName282',\n",
       " 'ownerName283',\n",
       " 'ownerName284',\n",
       " 'ownerName285',\n",
       " 'ownerName286',\n",
       " 'ownerName287',\n",
       " 'ownerName288',\n",
       " 'ownerName289',\n",
       " 'ownerName290',\n",
       " 'ownerName291',\n",
       " 'ownerName292',\n",
       " 'ownerName293',\n",
       " 'ownerName294',\n",
       " 'unknown',\n",
       " 'ownerName296',\n",
       " 'ownerName297',\n",
       " 'ownerName298',\n",
       " 'ownerName299',\n",
       " 'ownerName300',\n",
       " 'unknown',\n",
       " 'unknown',\n",
       " 'ownerName303',\n",
       " 'ownerName304',\n",
       " 'ownerName305',\n",
       " 'ownerName306',\n",
       " 'ownerName307',\n",
       " 'ownerName308',\n",
       " 'unknown',\n",
       " 'ownerName310',\n",
       " 'ownerName311',\n",
       " 'ownerName312',\n",
       " 'ownerName313',\n",
       " 'ownerName314',\n",
       " 'unknown',\n",
       " 'ownerName316',\n",
       " 'ownerName317',\n",
       " 'ownerName318',\n",
       " 'ownerName319',\n",
       " 'unknown',\n",
       " 'unknown',\n",
       " 'ownerName322',\n",
       " 'ownerName323',\n",
       " 'ownerName324',\n",
       " 'ownerName325',\n",
       " 'ownerName326',\n",
       " 'ownerName327',\n",
       " 'ownerName328',\n",
       " 'ownerName329',\n",
       " 'ownerName330',\n",
       " 'ownerName331',\n",
       " 'unknown',\n",
       " 'ownerName333',\n",
       " 'ownerName334',\n",
       " 'ownerName335',\n",
       " 'ownerName336',\n",
       " 'unknown',\n",
       " 'ownerName338',\n",
       " 'ownerName339',\n",
       " 'ownerName340',\n",
       " 'ownerName341']"
      ]
     },
     "execution_count": 78,
     "metadata": {},
     "output_type": "execute_result"
    }
   ],
   "source": [
    "#load data by each column in the dataset to start with the data analysis\n",
    "load_data_to_list(apart_numbers, generated_home_owners_file, apt_num_column)\n",
    "load_data_to_list(apart_type, generated_home_owners_file, apt_type_column)\n",
    "load_data_to_list(apart_ownership_type, generated_home_owners_file, apart_ownership_column)\n",
    "load_data_to_list(owner_name, generated_home_owners_file, owner_name_column)\n",
    "load_data_to_list(votes_per_owner, generated_home_owners_file, votes_per_owner_column)\n",
    "load_data_to_list(votes_per_apt, generated_home_owners_file, votes_per_apt_column)\n",
    "load_data_to_list(votes_by_sq_feet, generated_home_owners_file, votes_by_apt_size_column)\n",
    "load_data_to_list(ownership_start_date, generated_home_owners_file, ownership_start_column)\n",
    "load_data_to_list(gen_home_owner_names, generated_home_owners_file, gen_owner_name_column)"
   ]
  },
  {
   "cell_type": "markdown",
   "metadata": {},
   "source": [
    "# Create class with home owners info for analysis"
   ]
  },
  {
   "cell_type": "code",
   "execution_count": 79,
   "metadata": {},
   "outputs": [],
   "source": [
    "class BuildingOwnersInfo:\n",
    "    # init method \n",
    "    def __init__(self, apart_numbers, apart_type, apart_ownership_type, votes_per_owner, \n",
    "                 votes_per_apt, votes_by_sq_feet, ownership_start_date, gen_home_owner_names):\n",
    "        self.apart_numbers = apart_numbers\n",
    "        self.apart_type = apart_type\n",
    "        self.apart_ownership_type = apart_ownership_type\n",
    "        self.votes_per_owner = votes_per_owner\n",
    "        self.votes_per_apt = votes_per_apt\n",
    "        self.votes_by_sq_feet = votes_by_sq_feet\n",
    "        self.ownership_start_date = ownership_start_date\n",
    "        self.gen_home_owner_names = gen_home_owner_names\n",
    "\n",
    "    # method that calculates resedential vs comercial apts ratio\n",
    "    def analyze_owners_of_several_apt(self):\n",
    "        owner_to_count_mapping = {}\n",
    "        owners_of_several_apt = {}\n",
    "        for owner in self.gen_home_owner_names:\n",
    "            if(owner in owner_to_count_mapping):\n",
    "                owner_to_count_mapping[owner] =  owner_to_count_mapping.get(owner) + 1\n",
    "            else:\n",
    "                owner_to_count_mapping[owner] =  1\n",
    "        for owner in self.gen_home_owner_names:\n",
    "            owner_count = owner_to_count_mapping.get(owner)\n",
    "            if(owner_count > 1):\n",
    "                owners_of_several_apt[owner] = owner_count\n",
    "        return owners_of_several_apt\n",
    "\n",
    "    def create_owners_dictionary(self):\n",
    "        self.patients_dictionary = {}\n",
    "        self.patients_dictionary[apt_num_column] = self.apart_numbers\n",
    "        self.patients_dictionary[apt_type_column] = self.apart_type\n",
    "        self.patients_dictionary[apart_ownership_column] = self.apart_ownership_type\n",
    "        self.patients_dictionary[votes_per_owner_column] = self.votes_per_owner\n",
    "        self.patients_dictionary[votes_per_apt_column] = self.votes_per_apt\n",
    "        self.patients_dictionary[votes_by_apt_size_column] = self.votes_by_sq_feet\n",
    "        self.patients_dictionary[ownership_start_column] = self.ownership_start_date\n",
    "        self.patients_dictionary[gen_owner_name_column] = self.gen_home_owner_names\n",
    "        return self.patients_dictionary"
   ]
  },
  {
   "cell_type": "code",
   "execution_count": 80,
   "metadata": {},
   "outputs": [
    {
     "data": {
      "text/plain": [
       "{'ownerName70': 2,\n",
       " 'ownerName28': 2,\n",
       " 'ownerName339': 5,\n",
       " 'ownerName40': 2,\n",
       " 'ownerName175': 3,\n",
       " 'ownerName230': 2,\n",
       " 'unknown': 25,\n",
       " 'ownerName90': 2,\n",
       " 'ownerName191': 2,\n",
       " 'ownerName248': 6,\n",
       " 'ownerName121': 2,\n",
       " 'ownerName273': 2,\n",
       " 'ownerName158': 2,\n",
       " 'ownerName163': 2,\n",
       " 'ownerName259': 2}"
      ]
     },
     "execution_count": 80,
     "metadata": {},
     "output_type": "execute_result"
    }
   ],
   "source": [
    "home_owners_info = BuildingOwnersInfo(apart_numbers, apart_type, apart_ownership_type, votes_per_owner, \n",
    "                 votes_per_apt, votes_by_sq_feet, ownership_start_date, gen_home_owner_names)\n",
    "\n",
    "# dictionary of home owners who has more than one property in the building\n",
    "home_owners_info.analyze_owners_of_several_apt()"
   ]
  },
  {
   "cell_type": "markdown",
   "metadata": {},
   "source": [
    "## Cleaning and validating data"
   ]
  },
  {
   "cell_type": "code",
   "execution_count": 81,
   "metadata": {},
   "outputs": [
    {
     "data": {
      "text/html": [
       "<div>\n",
       "<style scoped>\n",
       "    .dataframe tbody tr th:only-of-type {\n",
       "        vertical-align: middle;\n",
       "    }\n",
       "\n",
       "    .dataframe tbody tr th {\n",
       "        vertical-align: top;\n",
       "    }\n",
       "\n",
       "    .dataframe thead th {\n",
       "        text-align: right;\n",
       "    }\n",
       "</style>\n",
       "<table border=\"1\" class=\"dataframe\">\n",
       "  <thead>\n",
       "    <tr style=\"text-align: right;\">\n",
       "      <th></th>\n",
       "      <th>apt_number</th>\n",
       "      <th>apt_type</th>\n",
       "      <th>apt_ownership_type</th>\n",
       "      <th>votes_per_owner</th>\n",
       "      <th>votes_per_apt</th>\n",
       "      <th>votes_by_sq_feet</th>\n",
       "      <th>ownership_start_date</th>\n",
       "      <th>gen_owner_name</th>\n",
       "    </tr>\n",
       "  </thead>\n",
       "  <tbody>\n",
       "    <tr>\n",
       "      <th>0</th>\n",
       "      <td>1</td>\n",
       "      <td>apartment</td>\n",
       "      <td>residential</td>\n",
       "      <td>1</td>\n",
       "      <td>1</td>\n",
       "      <td>70.5</td>\n",
       "      <td>09.11.2016</td>\n",
       "      <td>ownerName1</td>\n",
       "    </tr>\n",
       "    <tr>\n",
       "      <th>1</th>\n",
       "      <td>2</td>\n",
       "      <td>apartment</td>\n",
       "      <td>residential</td>\n",
       "      <td>4</td>\n",
       "      <td>6</td>\n",
       "      <td>45.53</td>\n",
       "      <td>22.03.2017</td>\n",
       "      <td>ownerName2</td>\n",
       "    </tr>\n",
       "    <tr>\n",
       "      <th>2</th>\n",
       "      <td>2</td>\n",
       "      <td>apartment</td>\n",
       "      <td>residential</td>\n",
       "      <td>1</td>\n",
       "      <td>6</td>\n",
       "      <td>11.38</td>\n",
       "      <td>22.03.2017</td>\n",
       "      <td>ownerName3</td>\n",
       "    </tr>\n",
       "    <tr>\n",
       "      <th>3</th>\n",
       "      <td>2</td>\n",
       "      <td>apartment</td>\n",
       "      <td>residential</td>\n",
       "      <td>1</td>\n",
       "      <td>6</td>\n",
       "      <td>11.38</td>\n",
       "      <td>22.03.2017</td>\n",
       "      <td>ownerName4</td>\n",
       "    </tr>\n",
       "    <tr>\n",
       "      <th>4</th>\n",
       "      <td>3</td>\n",
       "      <td>apartment</td>\n",
       "      <td>residential</td>\n",
       "      <td>1</td>\n",
       "      <td>1</td>\n",
       "      <td>70.1</td>\n",
       "      <td>31.05.2016</td>\n",
       "      <td>ownerName5</td>\n",
       "    </tr>\n",
       "    <tr>\n",
       "      <th>...</th>\n",
       "      <td>...</td>\n",
       "      <td>...</td>\n",
       "      <td>...</td>\n",
       "      <td>...</td>\n",
       "      <td>...</td>\n",
       "      <td>...</td>\n",
       "      <td>...</td>\n",
       "      <td>...</td>\n",
       "    </tr>\n",
       "    <tr>\n",
       "      <th>336</th>\n",
       "      <td>283</td>\n",
       "      <td>unknown</td>\n",
       "      <td>unknown</td>\n",
       "      <td></td>\n",
       "      <td></td>\n",
       "      <td></td>\n",
       "      <td></td>\n",
       "      <td>unknown</td>\n",
       "    </tr>\n",
       "    <tr>\n",
       "      <th>337</th>\n",
       "      <td>284</td>\n",
       "      <td>apartment</td>\n",
       "      <td>residential</td>\n",
       "      <td>1</td>\n",
       "      <td>1</td>\n",
       "      <td>64.1</td>\n",
       "      <td>09.08.2016</td>\n",
       "      <td>ownerName338</td>\n",
       "    </tr>\n",
       "    <tr>\n",
       "      <th>338</th>\n",
       "      <td>285</td>\n",
       "      <td>apartment</td>\n",
       "      <td>residential</td>\n",
       "      <td>1</td>\n",
       "      <td>1</td>\n",
       "      <td>48.5</td>\n",
       "      <td>08.09.2016</td>\n",
       "      <td>ownerName339</td>\n",
       "    </tr>\n",
       "    <tr>\n",
       "      <th>339</th>\n",
       "      <td>286</td>\n",
       "      <td>apartment</td>\n",
       "      <td>residential</td>\n",
       "      <td>1</td>\n",
       "      <td>1</td>\n",
       "      <td>146.5</td>\n",
       "      <td>15.03.2017</td>\n",
       "      <td>ownerName340</td>\n",
       "    </tr>\n",
       "    <tr>\n",
       "      <th>340</th>\n",
       "      <td>287</td>\n",
       "      <td>apartment</td>\n",
       "      <td>residential</td>\n",
       "      <td>1</td>\n",
       "      <td>1</td>\n",
       "      <td>108.2</td>\n",
       "      <td>10.07.2017</td>\n",
       "      <td>ownerName341</td>\n",
       "    </tr>\n",
       "  </tbody>\n",
       "</table>\n",
       "<p>341 rows × 8 columns</p>\n",
       "</div>"
      ],
      "text/plain": [
       "    apt_number   apt_type apt_ownership_type votes_per_owner votes_per_apt  \\\n",
       "0            1  apartment        residential               1             1   \n",
       "1            2  apartment        residential               4             6   \n",
       "2            2  apartment        residential               1             6   \n",
       "3            2  apartment        residential               1             6   \n",
       "4            3  apartment        residential               1             1   \n",
       "..         ...        ...                ...             ...           ...   \n",
       "336        283    unknown            unknown                                 \n",
       "337        284  apartment        residential               1             1   \n",
       "338        285  apartment        residential               1             1   \n",
       "339        286  apartment        residential               1             1   \n",
       "340        287  apartment        residential               1             1   \n",
       "\n",
       "    votes_by_sq_feet ownership_start_date gen_owner_name  \n",
       "0               70.5           09.11.2016     ownerName1  \n",
       "1              45.53           22.03.2017     ownerName2  \n",
       "2              11.38           22.03.2017     ownerName3  \n",
       "3              11.38           22.03.2017     ownerName4  \n",
       "4               70.1           31.05.2016     ownerName5  \n",
       "..               ...                  ...            ...  \n",
       "336                                              unknown  \n",
       "337             64.1           09.08.2016   ownerName338  \n",
       "338             48.5           08.09.2016   ownerName339  \n",
       "339            146.5           15.03.2017   ownerName340  \n",
       "340            108.2           10.07.2017   ownerName341  \n",
       "\n",
       "[341 rows x 8 columns]"
      ]
     },
     "execution_count": 81,
     "metadata": {},
     "output_type": "execute_result"
    }
   ],
   "source": [
    "# created home_owners_df Data Frame\n",
    "home_owners_df = pd.DataFrame(home_owners_info.create_owners_dictionary())\n",
    "home_owners_df"
   ]
  },
  {
   "cell_type": "code",
   "execution_count": 82,
   "metadata": {},
   "outputs": [
    {
     "data": {
      "text/plain": [
       "apt_number              object\n",
       "apt_type                object\n",
       "apt_ownership_type      object\n",
       "votes_per_owner         object\n",
       "votes_per_apt           object\n",
       "votes_by_sq_feet        object\n",
       "ownership_start_date    object\n",
       "gen_owner_name          object\n",
       "dtype: object"
      ]
     },
     "execution_count": 82,
     "metadata": {},
     "output_type": "execute_result"
    }
   ],
   "source": [
    "home_owners_df.dtypes\n"
   ]
  },
  {
   "cell_type": "code",
   "execution_count": 83,
   "metadata": {},
   "outputs": [
    {
     "data": {
      "text/html": [
       "<div>\n",
       "<style scoped>\n",
       "    .dataframe tbody tr th:only-of-type {\n",
       "        vertical-align: middle;\n",
       "    }\n",
       "\n",
       "    .dataframe tbody tr th {\n",
       "        vertical-align: top;\n",
       "    }\n",
       "\n",
       "    .dataframe thead th {\n",
       "        text-align: right;\n",
       "    }\n",
       "</style>\n",
       "<table border=\"1\" class=\"dataframe\">\n",
       "  <thead>\n",
       "    <tr style=\"text-align: right;\">\n",
       "      <th></th>\n",
       "      <th>apt_number</th>\n",
       "      <th>apt_type</th>\n",
       "      <th>apt_ownership_type</th>\n",
       "      <th>votes_per_owner</th>\n",
       "      <th>votes_per_apt</th>\n",
       "      <th>votes_by_sq_feet</th>\n",
       "      <th>ownership_start_date</th>\n",
       "      <th>gen_owner_name</th>\n",
       "    </tr>\n",
       "  </thead>\n",
       "  <tbody>\n",
       "    <tr>\n",
       "      <th>count</th>\n",
       "      <td>341</td>\n",
       "      <td>341</td>\n",
       "      <td>341</td>\n",
       "      <td>341</td>\n",
       "      <td>341</td>\n",
       "      <td>341</td>\n",
       "      <td>341</td>\n",
       "      <td>341</td>\n",
       "    </tr>\n",
       "    <tr>\n",
       "      <th>unique</th>\n",
       "      <td>294</td>\n",
       "      <td>5</td>\n",
       "      <td>3</td>\n",
       "      <td>6</td>\n",
       "      <td>9</td>\n",
       "      <td>172</td>\n",
       "      <td>158</td>\n",
       "      <td>295</td>\n",
       "    </tr>\n",
       "    <tr>\n",
       "      <th>top</th>\n",
       "      <td>139</td>\n",
       "      <td>apartment</td>\n",
       "      <td>residential</td>\n",
       "      <td>1</td>\n",
       "      <td>1</td>\n",
       "      <td></td>\n",
       "      <td></td>\n",
       "      <td>unknown</td>\n",
       "    </tr>\n",
       "    <tr>\n",
       "      <th>freq</th>\n",
       "      <td>4</td>\n",
       "      <td>307</td>\n",
       "      <td>307</td>\n",
       "      <td>307</td>\n",
       "      <td>234</td>\n",
       "      <td>25</td>\n",
       "      <td>25</td>\n",
       "      <td>25</td>\n",
       "    </tr>\n",
       "  </tbody>\n",
       "</table>\n",
       "</div>"
      ],
      "text/plain": [
       "       apt_number   apt_type apt_ownership_type votes_per_owner votes_per_apt  \\\n",
       "count         341        341                341             341           341   \n",
       "unique        294          5                  3               6             9   \n",
       "top           139  apartment        residential               1             1   \n",
       "freq            4        307                307             307           234   \n",
       "\n",
       "       votes_by_sq_feet ownership_start_date gen_owner_name  \n",
       "count               341                  341            341  \n",
       "unique              172                  158            295  \n",
       "top                                                 unknown  \n",
       "freq                 25                   25             25  "
      ]
     },
     "execution_count": 83,
     "metadata": {},
     "output_type": "execute_result"
    }
   ],
   "source": [
    "home_owners_df.describe()"
   ]
  },
  {
   "cell_type": "code",
   "execution_count": 84,
   "metadata": {},
   "outputs": [],
   "source": [
    "#Convert data types from string to quantitative type float.\n",
    "home_owners_df['votes_by_sq_feet'] = home_owners_df['votes_by_sq_feet'].apply(lambda x: 0 if x == '' else x)\n",
    "home_owners_df['votes_by_sq_feet'] = home_owners_df['votes_by_sq_feet'].astype('float')"
   ]
  },
  {
   "cell_type": "code",
   "execution_count": 85,
   "metadata": {},
   "outputs": [],
   "source": [
    "#Convert data types from string to quantitative type int.\n",
    "home_owners_df['votes_per_owner'] = home_owners_df['votes_per_owner'].apply(lambda x: 0 if x == '' else x)\n",
    "home_owners_df['votes_per_owner'] =  home_owners_df['votes_per_owner'].astype('int')"
   ]
  },
  {
   "cell_type": "code",
   "execution_count": 86,
   "metadata": {},
   "outputs": [],
   "source": [
    "#Convert data types from string to quantitative type int.\n",
    "home_owners_df['votes_per_apt'] = home_owners_df['votes_per_apt'].apply(lambda x: 0 if x == '' else x)\n",
    "home_owners_df['votes_per_apt'] =  home_owners_df['votes_per_apt'].astype('int')"
   ]
  },
  {
   "cell_type": "code",
   "execution_count": 87,
   "metadata": {},
   "outputs": [],
   "source": [
    "#Fill categorical variable apt_type with unknown type.\n",
    "home_owners_df['apt_type'] = home_owners_df['apt_type'].apply(lambda x: 'unknown' if x == '' or x == 'unknown' else x)"
   ]
  },
  {
   "cell_type": "code",
   "execution_count": 88,
   "metadata": {},
   "outputs": [],
   "source": [
    "home_owners_df['apt_ownership_type'] = home_owners_df['apt_ownership_type'].apply(lambda x: np.nan if x == '' or x == 'unknown' else x)"
   ]
  },
  {
   "cell_type": "code",
   "execution_count": 89,
   "metadata": {},
   "outputs": [],
   "source": [
    "home_owners_df['gen_owner_name'] = home_owners_df['gen_owner_name'].apply(lambda x: np.nan if x == '' or x == 'unknown' else x)\n",
    "home_owners_df['gen_owner_name'] = home_owners_df['gen_owner_name'].astype('string')"
   ]
  },
  {
   "cell_type": "code",
   "execution_count": 90,
   "metadata": {},
   "outputs": [],
   "source": [
    "home_owners_df['apt_number'] = home_owners_df['apt_number'].astype('string')"
   ]
  },
  {
   "cell_type": "code",
   "execution_count": 91,
   "metadata": {},
   "outputs": [],
   "source": [
    "home_owners_df['apt_type'] = home_owners_df['apt_type'].astype('string')"
   ]
  },
  {
   "cell_type": "code",
   "execution_count": 92,
   "metadata": {},
   "outputs": [
    {
     "data": {
      "text/plain": [
       "<StringArray>\n",
       "['apartment', 'basement', 'ground floor', 'unknown', 'mezzanine']\n",
       "Length: 5, dtype: string"
      ]
     },
     "execution_count": 92,
     "metadata": {},
     "output_type": "execute_result"
    }
   ],
   "source": [
    "#Possible apt types\n",
    "home_owners_df['apt_type'].unique()"
   ]
  },
  {
   "cell_type": "code",
   "execution_count": 93,
   "metadata": {},
   "outputs": [
    {
     "data": {
      "text/plain": [
       "array(['residential', 'comercial', nan], dtype=object)"
      ]
     },
     "execution_count": 93,
     "metadata": {},
     "output_type": "execute_result"
    }
   ],
   "source": [
    "home_owners_df['apt_ownership_type'].unique() "
   ]
  },
  {
   "cell_type": "code",
   "execution_count": 94,
   "metadata": {},
   "outputs": [
    {
     "data": {
      "text/plain": [
       "341"
      ]
     },
     "execution_count": 94,
     "metadata": {},
     "output_type": "execute_result"
    }
   ],
   "source": [
    "home_owners_count = len(home_owners_df.apt_number)\n",
    "home_owners_count"
   ]
  },
  {
   "cell_type": "code",
   "execution_count": 95,
   "metadata": {},
   "outputs": [
    {
     "data": {
      "text/plain": [
       "316"
      ]
     },
     "execution_count": 95,
     "metadata": {},
     "output_type": "execute_result"
    }
   ],
   "source": [
    "home_owners_without_missing = home_owners_df.dropna()\n",
    "home_owners_without_missing_count = len(home_owners_without_missing.apt_number)\n",
    "home_owners_without_missing_count"
   ]
  },
  {
   "cell_type": "code",
   "execution_count": 96,
   "metadata": {},
   "outputs": [
    {
     "data": {
      "text/plain": [
       "['residential', 'residential', 'residential', 'residential', 'residential', ..., 'residential', 'residential', 'residential', 'residential', 'residential']\n",
       "Length: 316\n",
       "Categories (2, object): ['residential' < 'comercial']"
      ]
     },
     "execution_count": 96,
     "metadata": {},
     "output_type": "execute_result"
    }
   ],
   "source": [
    "pd.Categorical(home_owners_without_missing['apt_ownership_type'], ['residential', 'comercial'], ordered = True)"
   ]
  },
  {
   "cell_type": "code",
   "execution_count": 97,
   "metadata": {},
   "outputs": [],
   "source": [
    "home_owners_without_missing = pd.get_dummies(data = home_owners_without_missing, columns = ['apt_ownership_type'], prefix='ownership')\n"
   ]
  },
  {
   "cell_type": "code",
   "execution_count": 98,
   "metadata": {},
   "outputs": [
    {
     "data": {
      "text/plain": [
       "apt_number                string\n",
       "apt_type                  string\n",
       "votes_per_owner            int64\n",
       "votes_per_apt              int64\n",
       "votes_by_sq_feet         float64\n",
       "ownership_start_date      object\n",
       "gen_owner_name            string\n",
       "ownership_comercial        uint8\n",
       "ownership_residential      uint8\n",
       "dtype: object"
      ]
     },
     "execution_count": 98,
     "metadata": {},
     "output_type": "execute_result"
    }
   ],
   "source": [
    "home_owners_without_missing.dtypes\n"
   ]
  },
  {
   "cell_type": "markdown",
   "metadata": {},
   "source": [
    "## Summary Statistics"
   ]
  },
  {
   "cell_type": "code",
   "execution_count": 99,
   "metadata": {},
   "outputs": [
    {
     "data": {
      "text/html": [
       "<div>\n",
       "<style scoped>\n",
       "    .dataframe tbody tr th:only-of-type {\n",
       "        vertical-align: middle;\n",
       "    }\n",
       "\n",
       "    .dataframe tbody tr th {\n",
       "        vertical-align: top;\n",
       "    }\n",
       "\n",
       "    .dataframe thead th {\n",
       "        text-align: right;\n",
       "    }\n",
       "</style>\n",
       "<table border=\"1\" class=\"dataframe\">\n",
       "  <thead>\n",
       "    <tr style=\"text-align: right;\">\n",
       "      <th></th>\n",
       "      <th>apt_number</th>\n",
       "      <th>apt_type</th>\n",
       "      <th>votes_per_owner</th>\n",
       "      <th>votes_per_apt</th>\n",
       "      <th>votes_by_sq_feet</th>\n",
       "      <th>ownership_start_date</th>\n",
       "      <th>gen_owner_name</th>\n",
       "      <th>ownership_comercial</th>\n",
       "      <th>ownership_residential</th>\n",
       "    </tr>\n",
       "  </thead>\n",
       "  <tbody>\n",
       "    <tr>\n",
       "      <th>count</th>\n",
       "      <td>316</td>\n",
       "      <td>316</td>\n",
       "      <td>316.000000</td>\n",
       "      <td>316.000000</td>\n",
       "      <td>316.000000</td>\n",
       "      <td>316</td>\n",
       "      <td>316</td>\n",
       "      <td>316.000000</td>\n",
       "      <td>316.000000</td>\n",
       "    </tr>\n",
       "    <tr>\n",
       "      <th>unique</th>\n",
       "      <td>269</td>\n",
       "      <td>5</td>\n",
       "      <td>NaN</td>\n",
       "      <td>NaN</td>\n",
       "      <td>NaN</td>\n",
       "      <td>157</td>\n",
       "      <td>294</td>\n",
       "      <td>NaN</td>\n",
       "      <td>NaN</td>\n",
       "    </tr>\n",
       "    <tr>\n",
       "      <th>top</th>\n",
       "      <td>177</td>\n",
       "      <td>apartment</td>\n",
       "      <td>NaN</td>\n",
       "      <td>NaN</td>\n",
       "      <td>NaN</td>\n",
       "      <td>10.05.2016</td>\n",
       "      <td>ownerName248</td>\n",
       "      <td>NaN</td>\n",
       "      <td>NaN</td>\n",
       "    </tr>\n",
       "    <tr>\n",
       "      <th>freq</th>\n",
       "      <td>4</td>\n",
       "      <td>307</td>\n",
       "      <td>NaN</td>\n",
       "      <td>NaN</td>\n",
       "      <td>NaN</td>\n",
       "      <td>11</td>\n",
       "      <td>6</td>\n",
       "      <td>NaN</td>\n",
       "      <td>NaN</td>\n",
       "    </tr>\n",
       "    <tr>\n",
       "      <th>mean</th>\n",
       "      <td>NaN</td>\n",
       "      <td>NaN</td>\n",
       "      <td>1.098101</td>\n",
       "      <td>1.651899</td>\n",
       "      <td>73.090285</td>\n",
       "      <td>NaN</td>\n",
       "      <td>NaN</td>\n",
       "      <td>0.028481</td>\n",
       "      <td>0.971519</td>\n",
       "    </tr>\n",
       "    <tr>\n",
       "      <th>std</th>\n",
       "      <td>NaN</td>\n",
       "      <td>NaN</td>\n",
       "      <td>0.780636</td>\n",
       "      <td>1.982230</td>\n",
       "      <td>289.263029</td>\n",
       "      <td>NaN</td>\n",
       "      <td>NaN</td>\n",
       "      <td>0.166606</td>\n",
       "      <td>0.166606</td>\n",
       "    </tr>\n",
       "    <tr>\n",
       "      <th>min</th>\n",
       "      <td>NaN</td>\n",
       "      <td>NaN</td>\n",
       "      <td>1.000000</td>\n",
       "      <td>1.000000</td>\n",
       "      <td>9.600000</td>\n",
       "      <td>NaN</td>\n",
       "      <td>NaN</td>\n",
       "      <td>0.000000</td>\n",
       "      <td>0.000000</td>\n",
       "    </tr>\n",
       "    <tr>\n",
       "      <th>25%</th>\n",
       "      <td>NaN</td>\n",
       "      <td>NaN</td>\n",
       "      <td>1.000000</td>\n",
       "      <td>1.000000</td>\n",
       "      <td>34.675000</td>\n",
       "      <td>NaN</td>\n",
       "      <td>NaN</td>\n",
       "      <td>0.000000</td>\n",
       "      <td>1.000000</td>\n",
       "    </tr>\n",
       "    <tr>\n",
       "      <th>50%</th>\n",
       "      <td>NaN</td>\n",
       "      <td>NaN</td>\n",
       "      <td>1.000000</td>\n",
       "      <td>1.000000</td>\n",
       "      <td>53.350000</td>\n",
       "      <td>NaN</td>\n",
       "      <td>NaN</td>\n",
       "      <td>0.000000</td>\n",
       "      <td>1.000000</td>\n",
       "    </tr>\n",
       "    <tr>\n",
       "      <th>75%</th>\n",
       "      <td>NaN</td>\n",
       "      <td>NaN</td>\n",
       "      <td>1.000000</td>\n",
       "      <td>2.000000</td>\n",
       "      <td>68.425000</td>\n",
       "      <td>NaN</td>\n",
       "      <td>NaN</td>\n",
       "      <td>0.000000</td>\n",
       "      <td>1.000000</td>\n",
       "    </tr>\n",
       "    <tr>\n",
       "      <th>max</th>\n",
       "      <td>NaN</td>\n",
       "      <td>NaN</td>\n",
       "      <td>11.000000</td>\n",
       "      <td>20.000000</td>\n",
       "      <td>5164.800000</td>\n",
       "      <td>NaN</td>\n",
       "      <td>NaN</td>\n",
       "      <td>1.000000</td>\n",
       "      <td>1.000000</td>\n",
       "    </tr>\n",
       "  </tbody>\n",
       "</table>\n",
       "</div>"
      ],
      "text/plain": [
       "       apt_number   apt_type  votes_per_owner  votes_per_apt  \\\n",
       "count         316        316       316.000000     316.000000   \n",
       "unique        269          5              NaN            NaN   \n",
       "top           177  apartment              NaN            NaN   \n",
       "freq            4        307              NaN            NaN   \n",
       "mean          NaN        NaN         1.098101       1.651899   \n",
       "std           NaN        NaN         0.780636       1.982230   \n",
       "min           NaN        NaN         1.000000       1.000000   \n",
       "25%           NaN        NaN         1.000000       1.000000   \n",
       "50%           NaN        NaN         1.000000       1.000000   \n",
       "75%           NaN        NaN         1.000000       2.000000   \n",
       "max           NaN        NaN        11.000000      20.000000   \n",
       "\n",
       "        votes_by_sq_feet ownership_start_date gen_owner_name  \\\n",
       "count         316.000000                  316            316   \n",
       "unique               NaN                  157            294   \n",
       "top                  NaN           10.05.2016   ownerName248   \n",
       "freq                 NaN                   11              6   \n",
       "mean           73.090285                  NaN            NaN   \n",
       "std           289.263029                  NaN            NaN   \n",
       "min             9.600000                  NaN            NaN   \n",
       "25%            34.675000                  NaN            NaN   \n",
       "50%            53.350000                  NaN            NaN   \n",
       "75%            68.425000                  NaN            NaN   \n",
       "max          5164.800000                  NaN            NaN   \n",
       "\n",
       "        ownership_comercial  ownership_residential  \n",
       "count            316.000000             316.000000  \n",
       "unique                  NaN                    NaN  \n",
       "top                     NaN                    NaN  \n",
       "freq                    NaN                    NaN  \n",
       "mean               0.028481               0.971519  \n",
       "std                0.166606               0.166606  \n",
       "min                0.000000               0.000000  \n",
       "25%                0.000000               1.000000  \n",
       "50%                0.000000               1.000000  \n",
       "75%                0.000000               1.000000  \n",
       "max                1.000000               1.000000  "
      ]
     },
     "execution_count": 99,
     "metadata": {},
     "output_type": "execute_result"
    }
   ],
   "source": [
    "home_owners_without_missing.describe(include = 'all')"
   ]
  },
  {
   "cell_type": "code",
   "execution_count": 100,
   "metadata": {},
   "outputs": [
    {
     "data": {
      "text/plain": [
       "25"
      ]
     },
     "execution_count": 100,
     "metadata": {},
     "output_type": "execute_result"
    }
   ],
   "source": [
    "# Number of missing rows\n",
    "home_owners_count - home_owners_without_missing_count"
   ]
  },
  {
   "cell_type": "code",
   "execution_count": 101,
   "metadata": {},
   "outputs": [
    {
     "data": {
      "text/plain": [
       "apt_number               string\n",
       "apt_type                 string\n",
       "apt_ownership_type       object\n",
       "votes_per_owner           int64\n",
       "votes_per_apt             int64\n",
       "votes_by_sq_feet        float64\n",
       "ownership_start_date     object\n",
       "gen_owner_name           string\n",
       "dtype: object"
      ]
     },
     "execution_count": 101,
     "metadata": {},
     "output_type": "execute_result"
    }
   ],
   "source": [
    "home_owners_df.dtypes"
   ]
  },
  {
   "cell_type": "code",
   "execution_count": 102,
   "metadata": {},
   "outputs": [
    {
     "data": {
      "text/html": [
       "<div>\n",
       "<style scoped>\n",
       "    .dataframe tbody tr th:only-of-type {\n",
       "        vertical-align: middle;\n",
       "    }\n",
       "\n",
       "    .dataframe tbody tr th {\n",
       "        vertical-align: top;\n",
       "    }\n",
       "\n",
       "    .dataframe thead th {\n",
       "        text-align: right;\n",
       "    }\n",
       "</style>\n",
       "<table border=\"1\" class=\"dataframe\">\n",
       "  <thead>\n",
       "    <tr style=\"text-align: right;\">\n",
       "      <th></th>\n",
       "      <th>owner_name</th>\n",
       "      <th>property_count</th>\n",
       "    </tr>\n",
       "  </thead>\n",
       "  <tbody>\n",
       "    <tr>\n",
       "      <th>20</th>\n",
       "      <td>ownerName121</td>\n",
       "      <td>2</td>\n",
       "    </tr>\n",
       "    <tr>\n",
       "      <th>55</th>\n",
       "      <td>ownerName158</td>\n",
       "      <td>2</td>\n",
       "    </tr>\n",
       "    <tr>\n",
       "      <th>60</th>\n",
       "      <td>ownerName163</td>\n",
       "      <td>2</td>\n",
       "    </tr>\n",
       "    <tr>\n",
       "      <th>72</th>\n",
       "      <td>ownerName175</td>\n",
       "      <td>3</td>\n",
       "    </tr>\n",
       "    <tr>\n",
       "      <th>90</th>\n",
       "      <td>ownerName191</td>\n",
       "      <td>2</td>\n",
       "    </tr>\n",
       "    <tr>\n",
       "      <th>129</th>\n",
       "      <td>ownerName230</td>\n",
       "      <td>2</td>\n",
       "    </tr>\n",
       "    <tr>\n",
       "      <th>146</th>\n",
       "      <td>ownerName248</td>\n",
       "      <td>6</td>\n",
       "    </tr>\n",
       "    <tr>\n",
       "      <th>155</th>\n",
       "      <td>ownerName259</td>\n",
       "      <td>2</td>\n",
       "    </tr>\n",
       "    <tr>\n",
       "      <th>168</th>\n",
       "      <td>ownerName273</td>\n",
       "      <td>2</td>\n",
       "    </tr>\n",
       "    <tr>\n",
       "      <th>175</th>\n",
       "      <td>ownerName28</td>\n",
       "      <td>2</td>\n",
       "    </tr>\n",
       "    <tr>\n",
       "      <th>231</th>\n",
       "      <td>ownerName339</td>\n",
       "      <td>5</td>\n",
       "    </tr>\n",
       "    <tr>\n",
       "      <th>239</th>\n",
       "      <td>ownerName40</td>\n",
       "      <td>2</td>\n",
       "    </tr>\n",
       "    <tr>\n",
       "      <th>266</th>\n",
       "      <td>ownerName70</td>\n",
       "      <td>2</td>\n",
       "    </tr>\n",
       "    <tr>\n",
       "      <th>285</th>\n",
       "      <td>ownerName90</td>\n",
       "      <td>2</td>\n",
       "    </tr>\n",
       "  </tbody>\n",
       "</table>\n",
       "</div>"
      ],
      "text/plain": [
       "       owner_name  property_count\n",
       "20   ownerName121               2\n",
       "55   ownerName158               2\n",
       "60   ownerName163               2\n",
       "72   ownerName175               3\n",
       "90   ownerName191               2\n",
       "129  ownerName230               2\n",
       "146  ownerName248               6\n",
       "155  ownerName259               2\n",
       "168  ownerName273               2\n",
       "175   ownerName28               2\n",
       "231  ownerName339               5\n",
       "239   ownerName40               2\n",
       "266   ownerName70               2\n",
       "285   ownerName90               2"
      ]
     },
     "execution_count": 102,
     "metadata": {},
     "output_type": "execute_result"
    }
   ],
   "source": [
    "# Identify owners of more than one property\n",
    "multi_home_owners = home_owners_without_missing.groupby('gen_owner_name').apt_number.count().reset_index()\n",
    "multi_home_owners.columns = ['owner_name', 'property_count']\n",
    "multi_home_owners[multi_home_owners['property_count'] >= 2]"
   ]
  },
  {
   "cell_type": "code",
   "execution_count": 103,
   "metadata": {},
   "outputs": [
    {
     "data": {
      "text/html": [
       "<div>\n",
       "<style scoped>\n",
       "    .dataframe tbody tr th:only-of-type {\n",
       "        vertical-align: middle;\n",
       "    }\n",
       "\n",
       "    .dataframe tbody tr th {\n",
       "        vertical-align: top;\n",
       "    }\n",
       "\n",
       "    .dataframe thead th {\n",
       "        text-align: right;\n",
       "    }\n",
       "</style>\n",
       "<table border=\"1\" class=\"dataframe\">\n",
       "  <thead>\n",
       "    <tr style=\"text-align: right;\">\n",
       "      <th></th>\n",
       "      <th>apt_type</th>\n",
       "      <th>apt_number</th>\n",
       "    </tr>\n",
       "  </thead>\n",
       "  <tbody>\n",
       "    <tr>\n",
       "      <th>0</th>\n",
       "      <td>apartment</td>\n",
       "      <td>307</td>\n",
       "    </tr>\n",
       "    <tr>\n",
       "      <th>1</th>\n",
       "      <td>basement</td>\n",
       "      <td>1</td>\n",
       "    </tr>\n",
       "    <tr>\n",
       "      <th>2</th>\n",
       "      <td>ground floor</td>\n",
       "      <td>1</td>\n",
       "    </tr>\n",
       "    <tr>\n",
       "      <th>3</th>\n",
       "      <td>mezzanine</td>\n",
       "      <td>2</td>\n",
       "    </tr>\n",
       "    <tr>\n",
       "      <th>4</th>\n",
       "      <td>unknown</td>\n",
       "      <td>5</td>\n",
       "    </tr>\n",
       "  </tbody>\n",
       "</table>\n",
       "</div>"
      ],
      "text/plain": [
       "       apt_type  apt_number\n",
       "0     apartment         307\n",
       "1      basement           1\n",
       "2  ground floor           1\n",
       "3     mezzanine           2\n",
       "4       unknown           5"
      ]
     },
     "execution_count": 103,
     "metadata": {},
     "output_type": "execute_result"
    }
   ],
   "source": [
    "# List apt_types and its count by type\n",
    "apt_type_count = home_owners_without_missing.groupby('apt_type').apt_number.count().reset_index()\n",
    "apt_type_count\n"
   ]
  },
  {
   "cell_type": "code",
   "execution_count": null,
   "metadata": {},
   "outputs": [],
   "source": []
  },
  {
   "cell_type": "code",
   "execution_count": 104,
   "metadata": {},
   "outputs": [
    {
     "data": {
      "text/plain": [
       "apartment       307\n",
       "unknown           5\n",
       "mezzanine         2\n",
       "basement          1\n",
       "ground floor      1\n",
       "Name: apt_type, dtype: Int64"
      ]
     },
     "execution_count": 104,
     "metadata": {},
     "output_type": "execute_result"
    }
   ],
   "source": [
    "# Frequancy table\n",
    "apt_type_count =  home_owners_without_missing.apt_type.value_counts()\n",
    "apt_type_count"
   ]
  },
  {
   "cell_type": "code",
   "execution_count": 105,
   "metadata": {},
   "outputs": [
    {
     "data": {
      "text/plain": [
       "apartment       0.971519\n",
       "unknown         0.015823\n",
       "mezzanine       0.006329\n",
       "basement        0.003165\n",
       "ground floor    0.003165\n",
       "Name: apt_type, dtype: Float64"
      ]
     },
     "execution_count": 105,
     "metadata": {},
     "output_type": "execute_result"
    }
   ],
   "source": [
    "# Calculate proportions\n",
    "apt_type_proportions =  home_owners_without_missing.apt_type.value_counts(normalize = True)\n",
    "apt_type_proportions"
   ]
  },
  {
   "cell_type": "code",
   "execution_count": null,
   "metadata": {},
   "outputs": [],
   "source": []
  },
  {
   "cell_type": "code",
   "execution_count": 106,
   "metadata": {},
   "outputs": [
    {
     "data": {
      "text/html": [
       "<div>\n",
       "<style scoped>\n",
       "    .dataframe tbody tr th:only-of-type {\n",
       "        vertical-align: middle;\n",
       "    }\n",
       "\n",
       "    .dataframe tbody tr th {\n",
       "        vertical-align: top;\n",
       "    }\n",
       "\n",
       "    .dataframe thead th {\n",
       "        text-align: right;\n",
       "    }\n",
       "</style>\n",
       "<table border=\"1\" class=\"dataframe\">\n",
       "  <thead>\n",
       "    <tr style=\"text-align: right;\">\n",
       "      <th></th>\n",
       "      <th>ownership_comercial</th>\n",
       "      <th>apt_number</th>\n",
       "    </tr>\n",
       "  </thead>\n",
       "  <tbody>\n",
       "    <tr>\n",
       "      <th>0</th>\n",
       "      <td>0</td>\n",
       "      <td>307</td>\n",
       "    </tr>\n",
       "    <tr>\n",
       "      <th>1</th>\n",
       "      <td>1</td>\n",
       "      <td>9</td>\n",
       "    </tr>\n",
       "  </tbody>\n",
       "</table>\n",
       "</div>"
      ],
      "text/plain": [
       "   ownership_comercial  apt_number\n",
       "0                    0         307\n",
       "1                    1           9"
      ]
     },
     "execution_count": 106,
     "metadata": {},
     "output_type": "execute_result"
    }
   ],
   "source": [
    "# Compare residential vs comercial properties\n",
    "apt_ownership_type_count = home_owners_without_missing.groupby('ownership_comercial').apt_number.count().reset_index()\n",
    "apt_ownership_type_count"
   ]
  },
  {
   "cell_type": "code",
   "execution_count": 107,
   "metadata": {},
   "outputs": [
    {
     "data": {
      "text/html": [
       "<div>\n",
       "<style scoped>\n",
       "    .dataframe tbody tr th:only-of-type {\n",
       "        vertical-align: middle;\n",
       "    }\n",
       "\n",
       "    .dataframe tbody tr th {\n",
       "        vertical-align: top;\n",
       "    }\n",
       "\n",
       "    .dataframe thead th {\n",
       "        text-align: right;\n",
       "    }\n",
       "</style>\n",
       "<table border=\"1\" class=\"dataframe\">\n",
       "  <thead>\n",
       "    <tr style=\"text-align: right;\">\n",
       "      <th></th>\n",
       "      <th>ownership_residential</th>\n",
       "      <th>apt_number</th>\n",
       "    </tr>\n",
       "  </thead>\n",
       "  <tbody>\n",
       "    <tr>\n",
       "      <th>0</th>\n",
       "      <td>0</td>\n",
       "      <td>9</td>\n",
       "    </tr>\n",
       "    <tr>\n",
       "      <th>1</th>\n",
       "      <td>1</td>\n",
       "      <td>307</td>\n",
       "    </tr>\n",
       "  </tbody>\n",
       "</table>\n",
       "</div>"
      ],
      "text/plain": [
       "   ownership_residential  apt_number\n",
       "0                      0           9\n",
       "1                      1         307"
      ]
     },
     "execution_count": 107,
     "metadata": {},
     "output_type": "execute_result"
    }
   ],
   "source": [
    "apt_ownership_type_count = home_owners_without_missing.groupby('ownership_residential').apt_number.count().reset_index()\n",
    "apt_ownership_type_count"
   ]
  },
  {
   "cell_type": "code",
   "execution_count": 122,
   "metadata": {},
   "outputs": [
    {
     "data": {
      "text/plain": [
       "9      1\n",
       "307    1\n",
       "Name: apt_number, dtype: int64"
      ]
     },
     "execution_count": 122,
     "metadata": {},
     "output_type": "execute_result"
    }
   ],
   "source": [
    "apt_ownership_type_count.apt_number.value_counts()\n",
    "\n"
   ]
  },
  {
   "cell_type": "code",
   "execution_count": 123,
   "metadata": {},
   "outputs": [
    {
     "data": {
      "text/html": [
       "<div>\n",
       "<style scoped>\n",
       "    .dataframe tbody tr th:only-of-type {\n",
       "        vertical-align: middle;\n",
       "    }\n",
       "\n",
       "    .dataframe tbody tr th {\n",
       "        vertical-align: top;\n",
       "    }\n",
       "\n",
       "    .dataframe thead th {\n",
       "        text-align: right;\n",
       "    }\n",
       "</style>\n",
       "<table border=\"1\" class=\"dataframe\">\n",
       "  <thead>\n",
       "    <tr style=\"text-align: right;\">\n",
       "      <th></th>\n",
       "      <th>apt_number</th>\n",
       "      <th>votes_by_sq_feet</th>\n",
       "    </tr>\n",
       "  </thead>\n",
       "  <tbody>\n",
       "    <tr>\n",
       "      <th>0</th>\n",
       "      <td>1</td>\n",
       "      <td>70.5</td>\n",
       "    </tr>\n",
       "    <tr>\n",
       "      <th>1</th>\n",
       "      <td>10</td>\n",
       "      <td>93.2</td>\n",
       "    </tr>\n",
       "    <tr>\n",
       "      <th>2</th>\n",
       "      <td>10-H</td>\n",
       "      <td>5164.8</td>\n",
       "    </tr>\n",
       "    <tr>\n",
       "      <th>3</th>\n",
       "      <td>100</td>\n",
       "      <td>73.9</td>\n",
       "    </tr>\n",
       "    <tr>\n",
       "      <th>4</th>\n",
       "      <td>101</td>\n",
       "      <td>68.4</td>\n",
       "    </tr>\n",
       "    <tr>\n",
       "      <th>...</th>\n",
       "      <td>...</td>\n",
       "      <td>...</td>\n",
       "    </tr>\n",
       "    <tr>\n",
       "      <th>264</th>\n",
       "      <td>95</td>\n",
       "      <td>77.6</td>\n",
       "    </tr>\n",
       "    <tr>\n",
       "      <th>265</th>\n",
       "      <td>96</td>\n",
       "      <td>62.7</td>\n",
       "    </tr>\n",
       "    <tr>\n",
       "      <th>266</th>\n",
       "      <td>97</td>\n",
       "      <td>65.0</td>\n",
       "    </tr>\n",
       "    <tr>\n",
       "      <th>267</th>\n",
       "      <td>98</td>\n",
       "      <td>68.3</td>\n",
       "    </tr>\n",
       "    <tr>\n",
       "      <th>268</th>\n",
       "      <td>99</td>\n",
       "      <td>104.0</td>\n",
       "    </tr>\n",
       "  </tbody>\n",
       "</table>\n",
       "<p>269 rows × 2 columns</p>\n",
       "</div>"
      ],
      "text/plain": [
       "    apt_number  votes_by_sq_feet\n",
       "0            1              70.5\n",
       "1           10              93.2\n",
       "2         10-H            5164.8\n",
       "3          100              73.9\n",
       "4          101              68.4\n",
       "..         ...               ...\n",
       "264         95              77.6\n",
       "265         96              62.7\n",
       "266         97              65.0\n",
       "267         98              68.3\n",
       "268         99             104.0\n",
       "\n",
       "[269 rows x 2 columns]"
      ]
     },
     "execution_count": 123,
     "metadata": {},
     "output_type": "execute_result"
    }
   ],
   "source": [
    "# votes by apt number\n",
    "vote_per_apt = home_owners_without_missing.groupby('apt_number').votes_by_sq_feet.sum().reset_index()\n",
    "vote_per_apt\n",
    "\n"
   ]
  },
  {
   "cell_type": "markdown",
   "metadata": {},
   "source": [
    "## Vizualization\n"
   ]
  },
  {
   "cell_type": "code",
   "execution_count": 124,
   "metadata": {},
   "outputs": [
    {
     "data": {
      "text/plain": [
       "48.4     7\n",
       "70.3     6\n",
       "44.9     5\n",
       "65.1     5\n",
       "65.0     5\n",
       "        ..\n",
       "67.7     1\n",
       "77.9     1\n",
       "45.0     1\n",
       "145.1    1\n",
       "108.2    1\n",
       "Name: votes_by_sq_feet, Length: 171, dtype: int64"
      ]
     },
     "execution_count": 124,
     "metadata": {},
     "output_type": "execute_result"
    }
   ],
   "source": [
    "home_owners_without_missing.votes_by_sq_feet.value_counts()"
   ]
  },
  {
   "cell_type": "code",
   "execution_count": 125,
   "metadata": {},
   "outputs": [
    {
     "data": {
      "image/png": "[encoded data removed]",
      "text/plain": [
       "<Figure size 432x288 with 1 Axes>"
      ]
     },
     "metadata": {
      "needs_background": "light"
     },
     "output_type": "display_data"
    }
   ],
   "source": [
    "# Create a histogram plot\n",
    "sns.histplot(x='votes_by_sq_feet', data=home_owners_without_missing)\n",
    "plt.show()\n",
    "plt.close()\n"
   ]
  },
  {
   "cell_type": "code",
   "execution_count": 126,
   "metadata": {},
   "outputs": [
    {
     "data": {
      "image/png": "[encoded data removed]",
      "text/plain": [
       "<Figure size 432x288 with 1 Axes>"
      ]
     },
     "metadata": {
      "needs_background": "light"
     },
     "output_type": "display_data"
    }
   ],
   "source": [
    "sns.countplot(x='apt_type', data=home_owners_without_missing)\n",
    "plt.show()\n",
    "plt.close()"
   ]
  },
  {
   "cell_type": "code",
   "execution_count": 127,
   "metadata": {},
   "outputs": [
    {
     "data": {
      "image/png": "[encoded data removed]",
      "text/plain": [
       "<Figure size 432x288 with 1 Axes>"
      ]
     },
     "metadata": {},
     "output_type": "display_data"
    }
   ],
   "source": [
    "home_owners_without_missing.apt_type.value_counts().plot.pie()\n",
    "plt.show()\n",
    "plt.close()"
   ]
  }
 ],
 "metadata": {
  "interpreter": {
   "hash": "6be2af7cb08fd929bcd351db4fa2580977c2ceb33b00e3690afad335a389259d"
  },
  "kernelspec": {
   "display_name": "Python 3.9.7 ('base')",
   "language": "python",
   "name": "python3"
  },
  "language_info": {
   "codemirror_mode": {
    "name": "ipython",
    "version": 3
   },
   "file_extension": ".py",
   "mimetype": "text/x-python",
   "name": "python",
   "nbconvert_exporter": "python",
   "pygments_lexer": "ipython3",
   "version": "3.9.7"
  },
  "orig_nbformat": 4
 },
 "nbformat": 4,
 "nbformat_minor": 2
}
